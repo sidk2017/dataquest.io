{
 "cells": [
  {
   "cell_type": "markdown",
   "metadata": {
    "collapsed": true
   },
   "source": [
    "# Exploring Trends in Liked/Commented Post in Hacker News website.\n",
    "\n",
    "### This project is all about to get an idea that what are those kind of posts on the Hacker news website which are above then average in number of comments.\n",
    "\n",
    "[Hacker News](https://news.ycombinator.com/)\n",
    "\n",
    "### We are interested in the these 2 types of posts namely:-\n",
    "\n",
    "    1). Ask HN\n",
    "    2). Show HN\n",
    "    \n",
    "### Ask HN means when someone put question about any thing, they put this keyword and then write question e.g. \n",
    "\n",
    "```\n",
    "Ask HN: How to improve my personal website?\n",
    "Ask HN: Am I the only one outraged by Twitter shutting down share counts?\n",
    "Ask HN: Aby recent changes to CSS that broke mobile?``\n",
    "```\n",
    "### Show HN means when someone shows their work, project, product to Hacker News. e.g.\n",
    "\n",
    "```\n",
    "Show HN: Wio Link  ESP8266 Based Web of Things Hardware Development Platform'\n",
    "Show HN: Something pointless I made\n",
    "Show HN: Shanhu.io, a programming playground powered by e8vm``\n",
    "```\n",
    "\n",
    "### We'll compare these two types of posts to determine the following:\n",
    "\n",
    "* Do Ask HN or Show HN receive more comments on average?\n",
    "* Do posts created at a certain time receive more comments on average?\n"
   ]
  },
  {
   "cell_type": "markdown",
   "metadata": {},
   "source": [
    "## Openning the dataset \"hacker_news.csv\" & removing headers"
   ]
  },
  {
   "cell_type": "code",
   "execution_count": 48,
   "metadata": {
    "collapsed": true
   },
   "outputs": [],
   "source": [
    "from csv import reader\n",
    "file = open('hacker_news.csv')\n",
    "file_read = reader(file)\n",
    "hn = list(file_read)"
   ]
  },
  {
   "cell_type": "code",
   "execution_count": 49,
   "metadata": {
    "collapsed": false
   },
   "outputs": [
    {
     "data": {
      "text/plain": [
       "[['id', 'title', 'url', 'num_points', 'num_comments', 'author', 'created_at'],\n",
       " ['12224879',\n",
       "  'Interactive Dynamic Video',\n",
       "  'http://www.interactivedynamicvideo.com/',\n",
       "  '386',\n",
       "  '52',\n",
       "  'ne0phyte',\n",
       "  '8/4/2016 11:52']]"
      ]
     },
     "execution_count": 49,
     "metadata": {},
     "output_type": "execute_result"
    }
   ],
   "source": [
    "hn[:2]                        # Preview of first 2 posts"
   ]
  },
  {
   "cell_type": "code",
   "execution_count": 50,
   "metadata": {
    "collapsed": false
   },
   "outputs": [
    {
     "name": "stdout",
     "output_type": "stream",
     "text": [
      "['id', 'title', 'url', 'num_points', 'num_comments', 'author', 'created_at']\n",
      "[['12224879', 'Interactive Dynamic Video', 'http://www.interactivedynamicvideo.com/', '386', '52', 'ne0phyte', '8/4/2016 11:52'], ['10975351', 'How to Use Open Source and Shut the Fuck Up at the Same Time', 'http://hueniverse.com/2016/01/26/how-to-use-open-source-and-shut-the-fuck-up-at-the-same-time/', '39', '10', 'josep2', '1/26/2016 19:30']]\n"
     ]
    }
   ],
   "source": [
    "#removing headers\n",
    "headers = hn[0]\n",
    "hn = hn[1:] # do not run this again.\n",
    "\n",
    "print(headers)\n",
    "print(hn[:2])"
   ]
  },
  {
   "cell_type": "markdown",
   "metadata": {},
   "source": [
    "## Extracting Ask HN & Show HN posts in seperate list"
   ]
  },
  {
   "cell_type": "code",
   "execution_count": 51,
   "metadata": {
    "collapsed": true
   },
   "outputs": [],
   "source": [
    "ask_posts = []                                   # list having Ask posts\n",
    "show_posts = []                                  # list having Show posts\n",
    "other_posts = []                                 # list having Other posts\n",
    "\n",
    "for row in hn:\n",
    "    title = row[1]\n",
    "    title = title.lower()                       # changed the strings to lower case.\n",
    "    if title.startswith(\"ask hn\"):              # used Startswith string method on each post.\n",
    "        ask_posts.append(row)\n",
    "    elif title.startswith(\"show hn\"):\n",
    "        show_posts.append(row)\n",
    "    else:\n",
    "        other_posts.append(row)"
   ]
  },
  {
   "cell_type": "code",
   "execution_count": 52,
   "metadata": {
    "collapsed": false
   },
   "outputs": [
    {
     "name": "stdout",
     "output_type": "stream",
     "text": [
      "No. of Ask posts: 1744\n",
      "No. of Show posts: 1162\n",
      "No. of posts other then Ask & Show: 17194\n"
     ]
    }
   ],
   "source": [
    "print(\"No. of Ask posts:\", len(ask_posts))\n",
    "print(\"No. of Show posts:\",len(show_posts))\n",
    "print(\"No. of posts other then Ask & Show:\",len(other_posts))"
   ]
  },
  {
   "cell_type": "markdown",
   "metadata": {},
   "source": [
    "## Avg no. of Comments for Ask & Show HN posts"
   ]
  },
  {
   "cell_type": "code",
   "execution_count": 53,
   "metadata": {
    "collapsed": false
   },
   "outputs": [
    {
     "data": {
      "text/plain": [
       "[['12296411',\n",
       "  'Ask HN: How to improve my personal website?',\n",
       "  '',\n",
       "  '2',\n",
       "  '6',\n",
       "  'ahmedbaracat',\n",
       "  '8/16/2016 9:55'],\n",
       " ['10610020',\n",
       "  'Ask HN: Am I the only one outraged by Twitter shutting down share counts?',\n",
       "  '',\n",
       "  '28',\n",
       "  '29',\n",
       "  'tkfx',\n",
       "  '11/22/2015 13:43']]"
      ]
     },
     "execution_count": 53,
     "metadata": {},
     "output_type": "execute_result"
    }
   ],
   "source": [
    "ask_posts[:2]                 # first two Ask posts"
   ]
  },
  {
   "cell_type": "code",
   "execution_count": 54,
   "metadata": {
    "collapsed": false
   },
   "outputs": [
    {
     "data": {
      "text/plain": [
       "[['10627194',\n",
       "  'Show HN: Wio Link  ESP8266 Based Web of Things Hardware Development Platform',\n",
       "  'https://iot.seeed.cc',\n",
       "  '26',\n",
       "  '22',\n",
       "  'kfihihc',\n",
       "  '11/25/2015 14:03'],\n",
       " ['10646440',\n",
       "  'Show HN: Something pointless I made',\n",
       "  'http://dn.ht/picklecat/',\n",
       "  '747',\n",
       "  '102',\n",
       "  'dhotson',\n",
       "  '11/29/2015 22:46']]"
      ]
     },
     "execution_count": 54,
     "metadata": {},
     "output_type": "execute_result"
    }
   ],
   "source": [
    "show_posts[:2]                  # first two Show posts"
   ]
  },
  {
   "cell_type": "markdown",
   "metadata": {},
   "source": [
    "## To find the Average we need the total & counts of comments in posts ( total and counts of column \"num_comments\" having index 4) "
   ]
  },
  {
   "cell_type": "code",
   "execution_count": 55,
   "metadata": {
    "collapsed": false
   },
   "outputs": [],
   "source": [
    "# Total no. of comments in ASK HN posts\n",
    "total_ask_comments = 0\n",
    "\n",
    "for post in ask_posts:\n",
    "    comment = post[4]\n",
    "    total_ask_comments += int(comment)           # total Ask comments added\n",
    "    \n",
    "avg_ask_comments = total_ask_comments/len(ask_posts)\n",
    "\n",
    "# Total no. of comments in Show HN posts\n",
    "total_show_comments = 0\n",
    "\n",
    "for post in show_posts:\n",
    "    comment = post[4]\n",
    "    total_show_comments += int(comment)            # total Show comments added\n",
    "    \n",
    "avg_show_comments = total_show_comments/len(show_posts)"
   ]
  },
  {
   "cell_type": "code",
   "execution_count": 56,
   "metadata": {
    "collapsed": false
   },
   "outputs": [
    {
     "name": "stdout",
     "output_type": "stream",
     "text": [
      "Average no. of Comments for each Ask posts:  14\n",
      "Average no. of Comments for each Show posts:  10\n"
     ]
    }
   ],
   "source": [
    "print(\"Average no. of Comments for each Ask posts: \",int(avg_ask_comments))\n",
    "print(\"Average no. of Comments for each Show posts: \",int(avg_show_comments))"
   ]
  },
  {
   "cell_type": "markdown",
   "metadata": {},
   "source": [
    "##  Analysis:- \n",
    "### So, we can see that the on an average Ask HN posts have more comments per posts than the Show HN posts\n",
    "\n",
    "## Now, we will analyse that if ask posts created at a certain time are more likely to attract comments.\n",
    "\n",
    "### We'll use the following steps to perform this analysis:\n",
    "\n",
    "    1). Calculate the amount of ask posts created in each hour of the day, along with the number of comments received.\n",
    "    \n",
    "    2). Calculate the average number of comments ask posts receive by hour created."
   ]
  },
  {
   "cell_type": "markdown",
   "metadata": {},
   "source": [
    "## Ask posts created in each hour of the day, along with the number of comments received."
   ]
  },
  {
   "cell_type": "code",
   "execution_count": 57,
   "metadata": {
    "collapsed": false
   },
   "outputs": [
    {
     "name": "stdout",
     "output_type": "stream",
     "text": [
      "['id', 'title', 'url', 'num_points', 'num_comments', 'author', 'created_at']\n"
     ]
    }
   ],
   "source": [
    "print(headers)"
   ]
  },
  {
   "cell_type": "code",
   "execution_count": 58,
   "metadata": {
    "collapsed": true
   },
   "outputs": [],
   "source": [
    "import datetime as dt               # datetime package imported to use methods related to date and time."
   ]
  },
  {
   "cell_type": "markdown",
   "metadata": {},
   "source": [
    "### Seprated two columns \"created_at\" & \"num_comments\"  in another list"
   ]
  },
  {
   "cell_type": "code",
   "execution_count": 59,
   "metadata": {
    "collapsed": false
   },
   "outputs": [],
   "source": [
    "result_list = []              # List of having \"created_at\" & \"num_comments\" columns of Ask posts\n",
    "\n",
    "for row in ask_posts:\n",
    "    created_at = row[-1]\n",
    "    num_comments = int(row[4])\n",
    "    result_list.append([created_at,num_comments])        "
   ]
  },
  {
   "cell_type": "code",
   "execution_count": 60,
   "metadata": {
    "collapsed": false
   },
   "outputs": [
    {
     "data": {
      "text/plain": [
       "[['8/16/2016 9:55', 6], ['11/22/2015 13:43', 29]]"
      ]
     },
     "execution_count": 60,
     "metadata": {},
     "output_type": "execute_result"
    }
   ],
   "source": [
    "result_list[:2]              # data in this list have date and comments "
   ]
  },
  {
   "cell_type": "markdown",
   "metadata": {},
   "source": [
    "###  Using above list will create below dictionaries:-\n",
    "\n",
    "   - counts_by_hour: contains the number of ask posts created during each hour of the day. \n",
    "\n",
    "   - comments_by_hour: contains the corresponding number of comments ask posts created at each hour received."
   ]
  },
  {
   "cell_type": "code",
   "execution_count": 61,
   "metadata": {
    "collapsed": false
   },
   "outputs": [],
   "source": [
    "counts_by_hour = {}                    # Dictionary will having counts by Hour\n",
    "comments_by_hour = {}                   # Dictionary will having comments by Hour\n",
    "\n",
    "for i in result_list:\n",
    "    date = dt.datetime.strptime(i[0], \"%m/%d/%Y %H:%M\")   #used strptime() to Parse date from string\n",
    "    hr = date.hour                                        # used hour method on datetime object.\n",
    "    comment_n = i[1]\n",
    "    \n",
    "    if hr in counts_by_hour:                      \n",
    "        counts_by_hour[hr] += 1                    # for each post updating counts_by_hour dict with counts by hours\n",
    "        comments_by_hour[hr] +=comment_n            # for each post updating comment_by_hour dict with comment no. by hours\n",
    "    else:\n",
    "        counts_by_hour[hr] = 1\n",
    "        comments_by_hour[hr] =comment_n"
   ]
  },
  {
   "cell_type": "code",
   "execution_count": 62,
   "metadata": {
    "collapsed": false
   },
   "outputs": [
    {
     "name": "stdout",
     "output_type": "stream",
     "text": [
      "Counts by Hour:\n",
      " {0: 55, 1: 60, 2: 58, 3: 54, 4: 47, 5: 46, 6: 44, 7: 34, 8: 48, 9: 45, 10: 59, 11: 58, 12: 73, 13: 85, 14: 107, 15: 116, 16: 108, 17: 100, 18: 109, 19: 110, 20: 80, 21: 109, 22: 71, 23: 68}\n",
      "\n",
      "\n",
      "Comments by Hour:\n",
      " {0: 447, 1: 683, 2: 1381, 3: 421, 4: 337, 5: 464, 6: 397, 7: 267, 8: 492, 9: 251, 10: 793, 11: 641, 12: 687, 13: 1253, 14: 1416, 15: 4477, 16: 1814, 17: 1146, 18: 1439, 19: 1188, 20: 1722, 21: 1745, 22: 479, 23: 543}\n"
     ]
    }
   ],
   "source": [
    "print(\"Counts by Hour:\\n\",counts_by_hour)\n",
    "print(\"\\n\")\n",
    "print(\"Comments by Hour:\\n\",comments_by_hour)"
   ]
  },
  {
   "cell_type": "markdown",
   "metadata": {},
   "source": [
    "## Average number of comments ask posts receive by hour will create using above 2 dictionaries."
   ]
  },
  {
   "cell_type": "code",
   "execution_count": 63,
   "metadata": {
    "collapsed": false
   },
   "outputs": [
    {
     "name": "stdout",
     "output_type": "stream",
     "text": [
      "average no. of comments per hour : \n",
      " [[0, 8.127272727272727], [1, 11.383333333333333], [2, 23.810344827586206], [3, 7.796296296296297], [4, 7.170212765957447]]\n"
     ]
    }
   ],
   "source": [
    "avg_by_hour = []                                        # List will have average no. of comments per hour\n",
    "\n",
    "for hr in counts_by_hour.keys():                        # iterate over counts by hours dict \n",
    "    avg = comments_by_hour[hr]/counts_by_hour[hr]       # calculating Avg per hour using comment and count by hour.\n",
    "    avg_by_hour.append([hr, avg])\n",
    "\n",
    "print(\"average no. of comments per hour : \\n\",avg_by_hour[:5])         #first five hours"
   ]
  },
  {
   "cell_type": "markdown",
   "metadata": {},
   "source": [
    "### Now we have list of lists having average no. of comments per hour, but its is not sorted. we need to sort this list on comments average, so that the maximum average come on top and we can make decision.\n",
    "\n",
    "### We will use sorted function on this list to sort on 2nd index value and mark Reverse as 'True'"
   ]
  },
  {
   "cell_type": "code",
   "execution_count": 64,
   "metadata": {
    "collapsed": false
   },
   "outputs": [
    {
     "name": "stdout",
     "output_type": "stream",
     "text": [
      "Sorted List of Average comments by hours:-\n",
      "  [[15, 38.5948275862069], [2, 23.810344827586206], [20, 21.525], [16, 16.796296296296298], [21, 16.009174311926607], [13, 14.741176470588234], [10, 13.440677966101696], [14, 13.233644859813085], [18, 13.20183486238532], [17, 11.46], [1, 11.383333333333333], [11, 11.051724137931034], [19, 10.8], [8, 10.25], [5, 10.08695652173913], [12, 9.41095890410959], [6, 9.022727272727273], [0, 8.127272727272727], [23, 7.985294117647059], [7, 7.852941176470588], [3, 7.796296296296297], [4, 7.170212765957447], [22, 6.746478873239437], [9, 5.5777777777777775]]\n"
     ]
    }
   ],
   "source": [
    "sort_avg_by_hour = sorted(avg_by_hour, key=lambda x:x[1], reverse=True)\n",
    "\n",
    "print(\"Sorted List of Average comments by hours:-\\n \",sort_avg_by_hour)"
   ]
  },
  {
   "cell_type": "code",
   "execution_count": 65,
   "metadata": {
    "collapsed": false
   },
   "outputs": [
    {
     "name": "stdout",
     "output_type": "stream",
     "text": [
      "Top 5 Hours for Ask Posts Comments::\n",
      "15:00: 38.59 average comments per post\n",
      "02:00: 23.81 average comments per post\n",
      "20:00: 21.52 average comments per post\n",
      "16:00: 16.80 average comments per post\n",
      "21:00: 16.01 average comments per post\n"
     ]
    }
   ],
   "source": [
    "print(\"Top 5 Hours for Ask Posts Comments::\")\n",
    "      \n",
    "for i in sort_avg_by_hour[:5]:                           # Top Five post comment\n",
    "    h = dt.datetime.strptime(str(i[0]),\"%H\")             # Parsing datetime object from Hour in the List\n",
    "    h = h.strftime(\"%H:%M\")                              # Formatting datetime object in specified Hour format.\n",
    "    avg = i[1]\n",
    "    \n",
    "    print(\"{hour}: {average:.2f} average comments per post\".format(hour=h , average=avg))"
   ]
  },
  {
   "cell_type": "markdown",
   "metadata": {
    "collapsed": true
   },
   "source": [
    "##  Conclusion:- \n",
    "\n",
    "### We can see that if a learner or person want to have most comments on their ASK post, they should post on Hacker News website at around _\"03.00 PM\"_\n",
    "\n",
    "### Thanks"
   ]
  }
 ],
 "metadata": {
  "kernelspec": {
   "display_name": "Python 3",
   "language": "python",
   "name": "python3"
  },
  "language_info": {
   "codemirror_mode": {
    "name": "ipython",
    "version": 3
   },
   "file_extension": ".py",
   "mimetype": "text/x-python",
   "name": "python",
   "nbconvert_exporter": "python",
   "pygments_lexer": "ipython3",
   "version": "3.4.3"
  }
 },
 "nbformat": 4,
 "nbformat_minor": 2
}
